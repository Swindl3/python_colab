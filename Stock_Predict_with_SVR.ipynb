{
  "nbformat": 4,
  "nbformat_minor": 0,
  "metadata": {
    "colab": {
      "name": "Stock Predict with SVR.ipynb",
      "provenance": [],
      "authorship_tag": "ABX9TyOv9T2OmG+cUsJRT//OHITs",
      "include_colab_link": true
    },
    "kernelspec": {
      "name": "python3",
      "display_name": "Python 3"
    },
    "accelerator": "GPU"
  },
  "cells": [
    {
      "cell_type": "markdown",
      "metadata": {
        "id": "view-in-github",
        "colab_type": "text"
      },
      "source": [
        "<a href=\"https://colab.research.google.com/github/Swindl3/python_colab/blob/master/Stock_Predict_with_SVR.ipynb\" target=\"_parent\"><img src=\"https://colab.research.google.com/assets/colab-badge.svg\" alt=\"Open In Colab\"/></a>"
      ]
    },
    {
      "cell_type": "code",
      "metadata": {
        "id": "7YEJFerwFuPg",
        "colab_type": "code",
        "colab": {}
      },
      "source": [
        "!pip install requests_html\n",
        "!pip install yahoo_fin\n",
        "!pip install parinya\n",
        "!pip install quandl"
      ],
      "execution_count": 0,
      "outputs": []
    },
    {
      "cell_type": "code",
      "metadata": {
        "id": "L1wCTgXjG_Ck",
        "colab_type": "code",
        "colab": {}
      },
      "source": [
        "import numpy as np \n",
        "from sklearn.svm import SVR\n",
        "from sklearn.model_selection import train_test_split\n",
        "import parinya.stock as stk\n",
        "import quandl"
      ],
      "execution_count": 0,
      "outputs": []
    },
    {
      "cell_type": "code",
      "metadata": {
        "id": "IswzNHonHErv",
        "colab_type": "code",
        "colab": {
          "base_uri": "https://localhost:8080/",
          "height": 276
        },
        "outputId": "98c94872-459c-4334-d59a-439bc88b7692"
      },
      "source": [
        "df = stk.getHistStock(\"CPALL.BK\",day_begin='01-01-2014',day_end='31-12-2019')\n",
        "print(df)"
      ],
      "execution_count": 48,
      "outputs": [
        {
          "output_type": "stream",
          "text": [
            "             Open   High    Low  Close  Adj Close      Volume\n",
            "Date                                                         \n",
            "2014-01-02  41.75  42.50  39.50  40.00  35.576023  25791700.0\n",
            "2014-01-03  39.50  40.00  39.00  40.00  35.576023  20419000.0\n",
            "2014-01-06  40.00  40.50  39.00  40.25  35.798367  12869600.0\n",
            "2014-01-07  40.50  41.25  40.00  41.00  36.465420  10010600.0\n",
            "2014-01-08  41.00  41.25  40.25  40.50  36.020721  14810300.0\n",
            "...           ...    ...    ...    ...        ...         ...\n",
            "2019-12-23  75.00  75.75  74.50  74.75  74.750000  22844600.0\n",
            "2019-12-24  75.50  75.75  74.75  75.00  75.000000   9187100.0\n",
            "2019-12-25  75.00  75.25  74.50  74.75  74.750000   4028400.0\n",
            "2019-12-26  75.00  75.25  74.50  75.00  75.000000   6023500.0\n",
            "2019-12-27  75.25  76.00  74.00  74.50  74.500000  17501000.0\n",
            "\n",
            "[1463 rows x 6 columns]\n"
          ],
          "name": "stdout"
        }
      ]
    },
    {
      "cell_type": "code",
      "metadata": {
        "id": "drypAIcrHJ_5",
        "colab_type": "code",
        "colab": {
          "base_uri": "https://localhost:8080/",
          "height": 138
        },
        "outputId": "253d4e7c-d631-4a8d-ef9d-8c49032c0c61"
      },
      "source": [
        "df = df[['Adj Close','Open']]\n",
        "print(df.head())"
      ],
      "execution_count": 49,
      "outputs": [
        {
          "output_type": "stream",
          "text": [
            "            Adj Close   Open\n",
            "Date                        \n",
            "2014-01-02  35.576023  41.75\n",
            "2014-01-03  35.576023  39.50\n",
            "2014-01-06  35.798367  40.00\n",
            "2014-01-07  36.465420  40.50\n",
            "2014-01-08  36.020721  41.00\n"
          ],
          "name": "stdout"
        }
      ]
    },
    {
      "cell_type": "code",
      "metadata": {
        "id": "RYNMGdS5HR8r",
        "colab_type": "code",
        "colab": {
          "base_uri": "https://localhost:8080/",
          "height": 138
        },
        "outputId": "7d7d8b69-90b7-46b3-a1c1-45c17afbe87b"
      },
      "source": [
        "\n",
        "forecast_out = 30\n",
        "\n",
        "df['Prediction'] = df['Adj Close'].shift(-forecast_out)\n",
        "\n",
        "print(df.tail())"
      ],
      "execution_count": 50,
      "outputs": [
        {
          "output_type": "stream",
          "text": [
            "            Adj Close   Open  Prediction\n",
            "Date                                    \n",
            "2019-12-23      74.75  75.00         NaN\n",
            "2019-12-24      75.00  75.50         NaN\n",
            "2019-12-25      74.75  75.00         NaN\n",
            "2019-12-26      75.00  75.00         NaN\n",
            "2019-12-27      74.50  75.25         NaN\n"
          ],
          "name": "stdout"
        }
      ]
    },
    {
      "cell_type": "code",
      "metadata": {
        "id": "ExfElLauILjp",
        "colab_type": "code",
        "colab": {
          "base_uri": "https://localhost:8080/",
          "height": 138
        },
        "outputId": "3e2d39c5-fcbb-4e35-d2da-82097341cb2e"
      },
      "source": [
        "### Create the independent data set (X)  #######\n",
        "# Convert the dataframe to a numpy array\n",
        "X = np.array(df.drop(['Prediction'],1))\n",
        "\n",
        "#Remove the last 'n' rows\n",
        "X = X[:-forecast_out]\n",
        "print(X)"
      ],
      "execution_count": 51,
      "outputs": [
        {
          "output_type": "stream",
          "text": [
            "[[35.576023 41.75    ]\n",
            " [35.576023 39.5     ]\n",
            " [35.798367 40.      ]\n",
            " ...\n",
            " [79.       78.25    ]\n",
            " [80.       79.25    ]\n",
            " [79.       80.      ]]\n"
          ],
          "name": "stdout"
        }
      ]
    },
    {
      "cell_type": "code",
      "metadata": {
        "id": "jB6S61emIVnj",
        "colab_type": "code",
        "colab": {
          "base_uri": "https://localhost:8080/",
          "height": 34
        },
        "outputId": "da8293a8-d815-4dfe-bfbe-f1b087bf3055"
      },
      "source": [
        "\n",
        "### Create the dependent data set (y)  #####\n",
        "# Convert the dataframe to a numpy array (All of the values including the NaN's)\n",
        "y = np.array(df['Prediction'])\n",
        "# Get all of the y values except the last 'n' rows\n",
        "y = y[:-forecast_out]\n",
        "print(y)"
      ],
      "execution_count": 52,
      "outputs": [
        {
          "output_type": "stream",
          "text": [
            "[34.241917 35.353672 34.90897  ... 74.75     75.       74.5     ]\n"
          ],
          "name": "stdout"
        }
      ]
    },
    {
      "cell_type": "code",
      "metadata": {
        "id": "HjLzxs2jIYfx",
        "colab_type": "code",
        "colab": {}
      },
      "source": [
        "\n",
        "# Split the data into 80% training and 20% testing\n",
        "x_train, x_test, y_train, y_test = train_test_split(X, y, test_size=0.2)"
      ],
      "execution_count": 0,
      "outputs": []
    },
    {
      "cell_type": "code",
      "metadata": {
        "id": "UJdaZbHfIcWK",
        "colab_type": "code",
        "colab": {
          "base_uri": "https://localhost:8080/",
          "height": 52
        },
        "outputId": "f5f95b4d-c2a5-4c77-b031-6b7b6f2a9c7d"
      },
      "source": [
        "# Create and train the Support Vector Machine (Regressor)\n",
        "svr_rbf = SVR(kernel='rbf', C=1e3, gamma=0.1)\n",
        "svr_rbf.fit(x_train, y_train)"
      ],
      "execution_count": 54,
      "outputs": [
        {
          "output_type": "execute_result",
          "data": {
            "text/plain": [
              "SVR(C=1000.0, cache_size=200, coef0=0.0, degree=3, epsilon=0.1, gamma=0.1,\n",
              "    kernel='rbf', max_iter=-1, shrinking=True, tol=0.001, verbose=False)"
            ]
          },
          "metadata": {
            "tags": []
          },
          "execution_count": 54
        }
      ]
    },
    {
      "cell_type": "code",
      "metadata": {
        "id": "ybOz-BpXIg2q",
        "colab_type": "code",
        "colab": {
          "base_uri": "https://localhost:8080/",
          "height": 34
        },
        "outputId": "fdd05a30-2744-4f1c-eacc-1245e26b3e41"
      },
      "source": [
        "\n",
        "# Testing Model: Score returns the coefficient of determination R^2 of the prediction. \n",
        "# The best possible score is 1.0\n",
        "svm_confidence = svr_rbf.score(x_test, y_test)\n",
        "print(\"svm confidence: \", svm_confidence)"
      ],
      "execution_count": 55,
      "outputs": [
        {
          "output_type": "stream",
          "text": [
            "svm confidence:  0.9606574973305421\n"
          ],
          "name": "stdout"
        }
      ]
    },
    {
      "cell_type": "code",
      "metadata": {
        "id": "snbxZvMyIkxI",
        "colab_type": "code",
        "colab": {
          "base_uri": "https://localhost:8080/",
          "height": 536
        },
        "outputId": "7e00a2e7-ae72-4dc7-cf8f-bc81bcc904c6"
      },
      "source": [
        "# Set x_forecast equal to the last 30 rows of the original data set from Adj. Close column\n",
        "x_forecast = np.array(df.drop(['Prediction'],1))[-forecast_out:]\n",
        "print(x_forecast)"
      ],
      "execution_count": 56,
      "outputs": [
        {
          "output_type": "stream",
          "text": [
            "[[78.75 78.75]\n",
            " [77.75 79.25]\n",
            " [76.5  77.5 ]\n",
            " [76.75 76.75]\n",
            " [75.5  76.25]\n",
            " [75.5  75.5 ]\n",
            " [75.25 76.  ]\n",
            " [76.5  75.25]\n",
            " [76.5  77.  ]\n",
            " [76.5  77.  ]\n",
            " [75.75 76.75]\n",
            " [76.   75.5 ]\n",
            " [75.   76.  ]\n",
            " [75.25 74.25]\n",
            " [75.25 75.  ]\n",
            " [75.   75.25]\n",
            " [73.25 75.  ]\n",
            " [73.5  73.5 ]\n",
            " [73.25 74.  ]\n",
            " [73.25 73.75]\n",
            " [72.5  73.5 ]\n",
            " [73.5  73.  ]\n",
            " [73.75 74.25]\n",
            " [73.5  73.5 ]\n",
            " [75.   73.5 ]\n",
            " [74.75 75.  ]\n",
            " [75.   75.5 ]\n",
            " [74.75 75.  ]\n",
            " [75.   75.  ]\n",
            " [74.5  75.25]]\n"
          ],
          "name": "stdout"
        }
      ]
    },
    {
      "cell_type": "code",
      "metadata": {
        "id": "5Xk2HmW2IsY1",
        "colab_type": "code",
        "colab": {
          "base_uri": "https://localhost:8080/",
          "height": 104
        },
        "outputId": "20bc94da-c31c-4a6a-b561-063427b753e8"
      },
      "source": [
        "# Print support vector regressor model predictions for the next 'n' days\n",
        "svm_prediction = svr_rbf.predict(x_forecast)\n",
        "print(svm_prediction)"
      ],
      "execution_count": 57,
      "outputs": [
        {
          "output_type": "stream",
          "text": [
            "[74.34126782 74.29692996 77.36807724 84.80685126 76.73178262 78.43482714\n",
            " 74.76220227 85.31993312 81.50393967 81.50393967 77.30341549 83.85628341\n",
            " 72.60247967 77.17757274 76.4132518  74.22040925 75.76092569 78.81092787\n",
            " 76.84367281 77.34985726 75.1495478  80.65727683 76.35589542 78.81092787\n",
            " 79.93931847 73.59470192 73.68291885 73.59470192 74.76081959 72.21619494]\n"
          ],
          "name": "stdout"
        }
      ]
    },
    {
      "cell_type": "code",
      "metadata": {
        "id": "WZvd7M4HJqYt",
        "colab_type": "code",
        "colab": {
          "base_uri": "https://localhost:8080/",
          "height": 683
        },
        "outputId": "7a41bbed-6c29-4144-99d3-e420603def17"
      },
      "source": [
        "from matplotlib import pyplot as plt\n",
        "df = stk.getHistStock(\"CPALL.BK\",day_begin='01-01-2020',day_end='31-01-2020')\n",
        "df = df['Adj Close']\n",
        "print(df)\n",
        "plt.plot(svm_prediction,'b')\n",
        "plt.plot(df,'r')\n",
        "plt.show()"
      ],
      "execution_count": 58,
      "outputs": [
        {
          "output_type": "stream",
          "text": [
            "Date\n",
            "2020-01-02    71.00\n",
            "2020-01-03    71.75\n",
            "2020-01-06    71.25\n",
            "2020-01-07    72.25\n",
            "2020-01-08    72.50\n",
            "2020-01-09    74.00\n",
            "2020-01-10    74.25\n",
            "2020-01-13    71.75\n",
            "2020-01-14    73.00\n",
            "2020-01-15    71.75\n",
            "2020-01-16    74.25\n",
            "2020-01-17    74.25\n",
            "2020-01-20    75.00\n",
            "2020-01-21    75.25\n",
            "2020-01-22    74.75\n",
            "2020-01-23    75.50\n",
            "2020-01-24    73.50\n",
            "2020-01-27    71.50\n",
            "2020-01-28    71.25\n",
            "2020-01-29    72.00\n",
            "2020-01-30    71.75\n",
            "2020-01-31    70.75\n",
            "Name: Adj Close, dtype: float32\n"
          ],
          "name": "stdout"
        },
        {
          "output_type": "display_data",
          "data": {
            "image/png": "[encoded data removed]",
            "text/plain": [
              "<Figure size 432x288 with 1 Axes>"
            ]
          },
          "metadata": {
            "tags": []
          }
        }
      ]
    }
  ]
}
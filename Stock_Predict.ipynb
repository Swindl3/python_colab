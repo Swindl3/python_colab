{
  "nbformat": 4,
  "nbformat_minor": 0,
  "metadata": {
    "colab": {
      "name": "Stock_Predict.ipynb",
      "provenance": []
    },
    "kernelspec": {
      "name": "python3",
      "display_name": "Python 3"
    },
    "accelerator": "GPU"
  },
  "cells": [
    {
      "cell_type": "code",
      "metadata": {
        "id": "3T7QnWtCwwJ0",
        "colab_type": "code",
        "outputId": "de7de337-2fdb-4345-88f7-272ce0a24345",
        "colab": {
          "base_uri": "https://localhost:8080/",
          "height": 1000
        }
      },
      "source": [
        "!pip install requests_html\n",
        "!pip install yahoo_fin\n",
        "!pip install parinya\n",
        "!pip install quandl"
      ],
      "execution_count": 4,
      "outputs": [
        {
          "output_type": "stream",
          "text": [
            "Collecting requests_html\n",
            "  Downloading https://files.pythonhosted.org/packages/24/bc/a4380f09bab3a776182578ce6b2771e57259d0d4dbce178205779abdc347/requests_html-0.10.0-py3-none-any.whl\n",
            "Collecting parse\n",
            "  Downloading https://files.pythonhosted.org/packages/4a/ea/9a16ff916752241aa80f1a5ec56dc6c6defc5d0e70af2d16904a9573367f/parse-1.14.0.tar.gz\n",
            "Collecting w3lib\n",
            "  Downloading https://files.pythonhosted.org/packages/6a/45/1ba17c50a0bb16bd950c9c2b92ec60d40c8ebda9f3371ae4230c437120b6/w3lib-1.21.0-py2.py3-none-any.whl\n",
            "Collecting fake-useragent\n",
            "  Downloading https://files.pythonhosted.org/packages/d1/79/af647635d6968e2deb57a208d309f6069d31cb138066d7e821e575112a80/fake-useragent-0.1.11.tar.gz\n",
            "Collecting pyquery\n",
            "  Downloading https://files.pythonhosted.org/packages/78/43/95d42e386c61cb639d1a0b94f0c0b9f0b7d6b981ad3c043a836c8b5bc68b/pyquery-1.4.1-py2.py3-none-any.whl\n",
            "Collecting pyppeteer>=0.0.14\n",
            "\u001b[?25l  Downloading https://files.pythonhosted.org/packages/b0/16/a5e8d617994cac605f972523bb25f12e3ff9c30baee29b4a9c50467229d9/pyppeteer-0.0.25.tar.gz (1.2MB)\n",
            "\u001b[K     |████████████████████████████████| 1.2MB 24.0MB/s \n",
            "\u001b[?25hRequirement already satisfied: bs4 in /usr/local/lib/python3.6/dist-packages (from requests_html) (0.0.1)\n",
            "Requirement already satisfied: requests in /usr/local/lib/python3.6/dist-packages (from requests_html) (2.21.0)\n",
            "Requirement already satisfied: six>=1.4.1 in /usr/local/lib/python3.6/dist-packages (from w3lib->requests_html) (1.12.0)\n",
            "Requirement already satisfied: lxml>=2.1 in /usr/local/lib/python3.6/dist-packages (from pyquery->requests_html) (4.2.6)\n",
            "Collecting cssselect>0.7.9\n",
            "  Downloading https://files.pythonhosted.org/packages/3b/d4/3b5c17f00cce85b9a1e6f91096e1cc8e8ede2e1be8e96b87ce1ed09e92c5/cssselect-1.1.0-py2.py3-none-any.whl\n",
            "Collecting pyee\n",
            "  Downloading https://files.pythonhosted.org/packages/ad/d8/5608d571ffad3d7de0192b0b3099fe3f38d87c0817ebff3cee19264f0bc2/pyee-6.0.0-py2.py3-none-any.whl\n",
            "Collecting websockets\n",
            "\u001b[?25l  Downloading https://files.pythonhosted.org/packages/bb/d9/856af84843912e2853b1b6e898ac8b802989fcf9ecf8e8445a1da263bf3b/websockets-8.1-cp36-cp36m-manylinux2010_x86_64.whl (78kB)\n",
            "\u001b[K     |████████████████████████████████| 81kB 11.2MB/s \n",
            "\u001b[?25hCollecting appdirs\n",
            "  Downloading https://files.pythonhosted.org/packages/56/eb/810e700ed1349edde4cbdc1b2a21e28cdf115f9faf263f6bbf8447c1abf3/appdirs-1.4.3-py2.py3-none-any.whl\n",
            "Requirement already satisfied: urllib3 in /usr/local/lib/python3.6/dist-packages (from pyppeteer>=0.0.14->requests_html) (1.24.3)\n",
            "Requirement already satisfied: tqdm in /usr/local/lib/python3.6/dist-packages (from pyppeteer>=0.0.14->requests_html) (4.28.1)\n",
            "Requirement already satisfied: beautifulsoup4 in /usr/local/lib/python3.6/dist-packages (from bs4->requests_html) (4.6.3)\n",
            "Requirement already satisfied: idna<2.9,>=2.5 in /usr/local/lib/python3.6/dist-packages (from requests->requests_html) (2.8)\n",
            "Requirement already satisfied: chardet<3.1.0,>=3.0.2 in /usr/local/lib/python3.6/dist-packages (from requests->requests_html) (3.0.4)\n",
            "Requirement already satisfied: certifi>=2017.4.17 in /usr/local/lib/python3.6/dist-packages (from requests->requests_html) (2019.11.28)\n",
            "Building wheels for collected packages: parse, fake-useragent, pyppeteer\n",
            "  Building wheel for parse (setup.py) ... \u001b[?25l\u001b[?25hdone\n",
            "  Created wheel for parse: filename=parse-1.14.0-cp36-none-any.whl size=23463 sha256=9f421437ef234e078a6b125284a970066ca00e837bb683fd17a47c61e54d25cb\n",
            "  Stored in directory: /root/.cache/pip/wheels/d7/07/e0/b74bfdc1d434e73ef79e69e301e82a7825e0c070f7442beb61\n",
            "  Building wheel for fake-useragent (setup.py) ... \u001b[?25l\u001b[?25hdone\n",
            "  Created wheel for fake-useragent: filename=fake_useragent-0.1.11-cp36-none-any.whl size=13485 sha256=2f5911fbae30d8667eb5a203089e48dd3a86c00dbb19db77909ba3d247090da4\n",
            "  Stored in directory: /root/.cache/pip/wheels/5e/63/09/d1dc15179f175357d3f5c00cbffbac37f9e8690d80545143ff\n",
            "  Building wheel for pyppeteer (setup.py) ... \u001b[?25l\u001b[?25hdone\n",
            "  Created wheel for pyppeteer: filename=pyppeteer-0.0.25-cp36-none-any.whl size=78362 sha256=d35a0355f725356d6d9be1b3841833060de54fa9c31a5892681eadb80603dba3\n",
            "  Stored in directory: /root/.cache/pip/wheels/34/e0/5d/070e22eceecf7ecd5fa4b86bbc18c1c7d0b90e02e9b57f35eb\n",
            "Successfully built parse fake-useragent pyppeteer\n",
            "Installing collected packages: parse, w3lib, fake-useragent, cssselect, pyquery, pyee, websockets, appdirs, pyppeteer, requests-html\n",
            "Successfully installed appdirs-1.4.3 cssselect-1.1.0 fake-useragent-0.1.11 parse-1.14.0 pyee-6.0.0 pyppeteer-0.0.25 pyquery-1.4.1 requests-html-0.10.0 w3lib-1.21.0 websockets-8.1\n",
            "Collecting yahoo_fin\n",
            "  Downloading https://files.pythonhosted.org/packages/fe/bd/27f0066d596c87817b7d8f4a3533fdb666b1649007daee1965751adf07e8/yahoo_fin-0.8.4-py3-none-any.whl\n",
            "Installing collected packages: yahoo-fin\n",
            "Successfully installed yahoo-fin-0.8.4\n",
            "Collecting parinya\n",
            "  Downloading https://files.pythonhosted.org/packages/a7/1a/9bb4a155b45f12c265fbb5ed220824e03f20679b33ea87062ae8571cc95c/parinya-0.0.27-py3-none-any.whl\n",
            "Requirement already satisfied: numpy in /usr/local/lib/python3.6/dist-packages (from parinya) (1.17.5)\n",
            "Installing collected packages: parinya\n",
            "Successfully installed parinya-0.0.27\n",
            "Collecting quandl\n",
            "  Downloading https://files.pythonhosted.org/packages/07/ab/8cd479fba8a9b197a43a0d55dd534b066fb8e5a0a04b5c0384cbc5d663aa/Quandl-3.5.0-py2.py3-none-any.whl\n",
            "Requirement already satisfied: numpy>=1.8 in /usr/local/lib/python3.6/dist-packages (from quandl) (1.17.5)\n",
            "Requirement already satisfied: python-dateutil in /usr/local/lib/python3.6/dist-packages (from quandl) (2.6.1)\n",
            "Requirement already satisfied: requests>=2.7.0 in /usr/local/lib/python3.6/dist-packages (from quandl) (2.21.0)\n",
            "Requirement already satisfied: six in /usr/local/lib/python3.6/dist-packages (from quandl) (1.12.0)\n",
            "Collecting inflection>=0.3.1\n",
            "  Downloading https://files.pythonhosted.org/packages/d5/35/a6eb45b4e2356fe688b21570864d4aa0d0a880ce387defe9c589112077f8/inflection-0.3.1.tar.gz\n",
            "Requirement already satisfied: more-itertools in /usr/local/lib/python3.6/dist-packages (from quandl) (8.0.2)\n",
            "Requirement already satisfied: pandas>=0.14 in /usr/local/lib/python3.6/dist-packages (from quandl) (0.25.3)\n",
            "Requirement already satisfied: idna<2.9,>=2.5 in /usr/local/lib/python3.6/dist-packages (from requests>=2.7.0->quandl) (2.8)\n",
            "Requirement already satisfied: chardet<3.1.0,>=3.0.2 in /usr/local/lib/python3.6/dist-packages (from requests>=2.7.0->quandl) (3.0.4)\n",
            "Requirement already satisfied: certifi>=2017.4.17 in /usr/local/lib/python3.6/dist-packages (from requests>=2.7.0->quandl) (2019.11.28)\n",
            "Requirement already satisfied: urllib3<1.25,>=1.21.1 in /usr/local/lib/python3.6/dist-packages (from requests>=2.7.0->quandl) (1.24.3)\n",
            "Requirement already satisfied: pytz>=2017.2 in /usr/local/lib/python3.6/dist-packages (from pandas>=0.14->quandl) (2018.9)\n",
            "Building wheels for collected packages: inflection\n",
            "  Building wheel for inflection (setup.py) ... \u001b[?25l\u001b[?25hdone\n",
            "  Created wheel for inflection: filename=inflection-0.3.1-cp36-none-any.whl size=6076 sha256=8d80ce130b81ca7f3b7ec2f3983b872c11f78e1abcdd9c2b5069059609bd69a0\n",
            "  Stored in directory: /root/.cache/pip/wheels/9f/5a/d3/6fc3bf6516d2a3eb7e18f9f28b472110b59325f3f258fe9211\n",
            "Successfully built inflection\n",
            "Installing collected packages: inflection, quandl\n",
            "Successfully installed inflection-0.3.1 quandl-3.5.0\n"
          ],
          "name": "stdout"
        }
      ]
    },
    {
      "cell_type": "code",
      "metadata": {
        "id": "hbnbhlnFv_UD",
        "colab_type": "code",
        "colab": {}
      },
      "source": [
        "import numpy as np \n",
        "from sklearn.linear_model import LinearRegression\n",
        "from sklearn.svm import SVR\n",
        "from sklearn.model_selection import train_test_split\n",
        "import parinya.stock as stk\n",
        "import quandl"
      ],
      "execution_count": 0,
      "outputs": []
    },
    {
      "cell_type": "code",
      "metadata": {
        "id": "cp4OnmbixPh-",
        "colab_type": "code",
        "outputId": "ae594b48-9e52-4e09-d615-f3dbd8b685ca",
        "colab": {
          "base_uri": "https://localhost:8080/",
          "height": 269
        }
      },
      "source": [
        "df = stk.getHistStock(\"CPALL.BK\",day_begin='01-01-2019',day_end='31-12-2019')\n",
        "print(df)"
      ],
      "execution_count": 6,
      "outputs": [
        {
          "output_type": "stream",
          "text": [
            "             Open   High    Low  Close  Adj Close      Volume\n",
            "Date                                                         \n",
            "2019-01-02  69.00  70.50  68.75  70.25  69.162262  32877200.0\n",
            "2019-01-03  70.50  72.00  70.50  70.50  69.408386  59895200.0\n",
            "2019-01-04  71.50  72.50  71.25  72.25  71.131294  61021200.0\n",
            "2019-01-07  72.75  73.00  72.25  73.00  71.869675  31040600.0\n",
            "2019-01-08  73.00  73.00  72.25  72.50  71.377419  45240900.0\n",
            "...           ...    ...    ...    ...        ...         ...\n",
            "2019-12-23  75.00  75.75  74.50  74.75  74.750000  22844600.0\n",
            "2019-12-24  75.50  75.75  74.75  75.00  75.000000   9187100.0\n",
            "2019-12-25  75.00  75.25  74.50  74.75  74.750000   4028400.0\n",
            "2019-12-26  75.00  75.25  74.50  75.00  75.000000   6023500.0\n",
            "2019-12-27  75.25  76.00  74.00  74.50  74.500000  17501000.0\n",
            "\n",
            "[243 rows x 6 columns]\n"
          ],
          "name": "stdout"
        }
      ]
    },
    {
      "cell_type": "code",
      "metadata": {
        "id": "pPdSaAJtyGEr",
        "colab_type": "code",
        "outputId": "73b0257d-3527-4f5e-ae67-ceea304d004f",
        "colab": {
          "base_uri": "https://localhost:8080/",
          "height": 134
        }
      },
      "source": [
        "df = df[['Adj Close']]\n",
        "print(df.head())"
      ],
      "execution_count": 7,
      "outputs": [
        {
          "output_type": "stream",
          "text": [
            "            Adj Close\n",
            "Date                 \n",
            "2019-01-02  69.162262\n",
            "2019-01-03  69.408386\n",
            "2019-01-04  71.131294\n",
            "2019-01-07  71.869675\n",
            "2019-01-08  71.377419\n"
          ],
          "name": "stdout"
        }
      ]
    },
    {
      "cell_type": "code",
      "metadata": {
        "id": "x8fBHLWaynyY",
        "colab_type": "code",
        "outputId": "cda31312-2fe4-4569-b3b3-bc56e0881f3d",
        "colab": {
          "base_uri": "https://localhost:8080/",
          "height": 134
        }
      },
      "source": [
        "\n",
        "# A variable for predicting 'n' days out into the future\n",
        "forecast_out = 30\n",
        "#Create another column (the target or dependent variable) shifted 'n' units up\n",
        "df['Prediction'] = df.shift(-forecast_out)\n",
        "#print the new data set\n",
        "print(df.tail())"
      ],
      "execution_count": 8,
      "outputs": [
        {
          "output_type": "stream",
          "text": [
            "            Adj Close  Prediction\n",
            "Date                             \n",
            "2019-12-23      74.75         NaN\n",
            "2019-12-24      75.00         NaN\n",
            "2019-12-25      74.75         NaN\n",
            "2019-12-26      75.00         NaN\n",
            "2019-12-27      74.50         NaN\n"
          ],
          "name": "stdout"
        }
      ]
    },
    {
      "cell_type": "code",
      "metadata": {
        "id": "5hIe4QOK1fub",
        "colab_type": "code",
        "outputId": "40364e62-9389-4602-c025-60bb806af1c0",
        "colab": {
          "base_uri": "https://localhost:8080/",
          "height": 1000
        }
      },
      "source": [
        "\n",
        "### Create the independent data set (X)  #######\n",
        "# Convert the dataframe to a numpy array\n",
        "X = np.array(df.drop(['Prediction'],1))\n",
        "\n",
        "#Remove the last 'n' rows\n",
        "X = X[:-forecast_out]\n",
        "print(X)"
      ],
      "execution_count": 9,
      "outputs": [
        {
          "output_type": "stream",
          "text": [
            "[[69.16226 ]\n",
            " [69.40839 ]\n",
            " [71.131294]\n",
            " [71.869675]\n",
            " [71.37742 ]\n",
            " [71.37742 ]\n",
            " [72.854195]\n",
            " [73.59258 ]\n",
            " [73.34645 ]\n",
            " [73.10033 ]\n",
            " [73.10033 ]\n",
            " [73.10033 ]\n",
            " [73.59258 ]\n",
            " [74.577095]\n",
            " [74.08484 ]\n",
            " [74.33097 ]\n",
            " [75.80774 ]\n",
            " [76.05387 ]\n",
            " [76.3     ]\n",
            " [77.53065 ]\n",
            " [76.79226 ]\n",
            " [76.54613 ]\n",
            " [76.05387 ]\n",
            " [76.54613 ]\n",
            " [76.79226 ]\n",
            " [77.03839 ]\n",
            " [75.31548 ]\n",
            " [75.561615]\n",
            " [75.561615]\n",
            " [76.3     ]\n",
            " [76.3     ]\n",
            " [76.3     ]\n",
            " [75.80774 ]\n",
            " [76.05387 ]\n",
            " [75.80774 ]\n",
            " [75.561615]\n",
            " [77.53065 ]\n",
            " [79.00742 ]\n",
            " [78.76129 ]\n",
            " [77.284515]\n",
            " [76.54613 ]\n",
            " [76.54613 ]\n",
            " [76.05387 ]\n",
            " [76.3     ]\n",
            " [75.31548 ]\n",
            " [76.3     ]\n",
            " [76.05387 ]\n",
            " [76.05387 ]\n",
            " [75.561615]\n",
            " [76.3     ]\n",
            " [76.05387 ]\n",
            " [74.33097 ]\n",
            " [73.10033 ]\n",
            " [74.33097 ]\n",
            " [74.82323 ]\n",
            " [74.33097 ]\n",
            " [74.82323 ]\n",
            " [72.854195]\n",
            " [72.854195]\n",
            " [73.10033 ]\n",
            " [73.10033 ]\n",
            " [73.59258 ]\n",
            " [74.577095]\n",
            " [75.06936 ]\n",
            " [74.82323 ]\n",
            " [74.08484 ]\n",
            " [75.06936 ]\n",
            " [75.80774 ]\n",
            " [75.80774 ]\n",
            " [76.05387 ]\n",
            " [75.80774 ]\n",
            " [76.05387 ]\n",
            " [75.80774 ]\n",
            " [76.05387 ]\n",
            " [76.3     ]\n",
            " [76.3     ]\n",
            " [76.79226 ]\n",
            " [75.561615]\n",
            " [75.561615]\n",
            " [75.80774 ]\n",
            " [76.3     ]\n",
            " [76.3     ]\n",
            " [77.5     ]\n",
            " [76.25    ]\n",
            " [76.      ]\n",
            " [75.75    ]\n",
            " [76.75    ]\n",
            " [76.25    ]\n",
            " [77.25    ]\n",
            " [76.5     ]\n",
            " [76.25    ]\n",
            " [76.75    ]\n",
            " [76.25    ]\n",
            " [78.25    ]\n",
            " [77.75    ]\n",
            " [79.      ]\n",
            " [81.      ]\n",
            " [80.5     ]\n",
            " [79.      ]\n",
            " [79.      ]\n",
            " [79.75    ]\n",
            " [81.75    ]\n",
            " [82.      ]\n",
            " [81.75    ]\n",
            " [81.25    ]\n",
            " [82.      ]\n",
            " [81.75    ]\n",
            " [81.75    ]\n",
            " [82.75    ]\n",
            " [83.      ]\n",
            " [82.5     ]\n",
            " [84.25    ]\n",
            " [84.25    ]\n",
            " [85.      ]\n",
            " [85.5     ]\n",
            " [85.      ]\n",
            " [85.25    ]\n",
            " [85.75    ]\n",
            " [86.      ]\n",
            " [86.      ]\n",
            " [86.      ]\n",
            " [86.75    ]\n",
            " [86.5     ]\n",
            " [85.5     ]\n",
            " [86.5     ]\n",
            " [86.5     ]\n",
            " [86.25    ]\n",
            " [87.75    ]\n",
            " [87.5     ]\n",
            " [87.25    ]\n",
            " [87.5     ]\n",
            " [87.25    ]\n",
            " [87.25    ]\n",
            " [87.75    ]\n",
            " [86.75    ]\n",
            " [87.5     ]\n",
            " [87.5     ]\n",
            " [87.5     ]\n",
            " [86.5     ]\n",
            " [87.      ]\n",
            " [86.75    ]\n",
            " [86.75    ]\n",
            " [86.75    ]\n",
            " [85.5     ]\n",
            " [85.5     ]\n",
            " [86.      ]\n",
            " [87.5     ]\n",
            " [87.      ]\n",
            " [84.5     ]\n",
            " [83.5     ]\n",
            " [82.5     ]\n",
            " [84.5     ]\n",
            " [84.      ]\n",
            " [84.75    ]\n",
            " [86.5     ]\n",
            " [85.5     ]\n",
            " [86.75    ]\n",
            " [86.25    ]\n",
            " [84.75    ]\n",
            " [83.25    ]\n",
            " [83.75    ]\n",
            " [84.      ]\n",
            " [83.5     ]\n",
            " [82.5     ]\n",
            " [84.      ]\n",
            " [83.75    ]\n",
            " [84.5     ]\n",
            " [84.25    ]\n",
            " [83.      ]\n",
            " [84.      ]\n",
            " [83.      ]\n",
            " [82.75    ]\n",
            " [82.      ]\n",
            " [82.75    ]\n",
            " [82.75    ]\n",
            " [81.75    ]\n",
            " [81.25    ]\n",
            " [80.75    ]\n",
            " [79.75    ]\n",
            " [80.      ]\n",
            " [79.75    ]\n",
            " [81.5     ]\n",
            " [81.25    ]\n",
            " [80.      ]\n",
            " [80.5     ]\n",
            " [81.5     ]\n",
            " [80.75    ]\n",
            " [80.75    ]\n",
            " [80.25    ]\n",
            " [80.25    ]\n",
            " [79.75    ]\n",
            " [81.      ]\n",
            " [81.25    ]\n",
            " [81.5     ]\n",
            " [82.25    ]\n",
            " [82.75    ]\n",
            " [81.75    ]\n",
            " [81.75    ]\n",
            " [81.      ]\n",
            " [78.5     ]\n",
            " [79.      ]\n",
            " [77.75    ]\n",
            " [78.5     ]\n",
            " [78.      ]\n",
            " [75.75    ]\n",
            " [78.      ]\n",
            " [79.25    ]\n",
            " [78.5     ]\n",
            " [79.25    ]\n",
            " [78.75    ]\n",
            " [79.      ]\n",
            " [80.      ]\n",
            " [79.      ]]\n"
          ],
          "name": "stdout"
        }
      ]
    },
    {
      "cell_type": "code",
      "metadata": {
        "id": "K7JBbima3qaY",
        "colab_type": "code",
        "outputId": "66cb6b85-f00e-4e39-c9dc-225b42ba9ee2",
        "colab": {
          "base_uri": "https://localhost:8080/",
          "height": 538
        }
      },
      "source": [
        "\n",
        "### Create the dependent data set (y)  #####\n",
        "# Convert the dataframe to a numpy array (All of the values including the NaN's)\n",
        "y = np.array(df['Prediction'])\n",
        "# Get all of the y values except the last 'n' rows\n",
        "y = y[:-forecast_out]\n",
        "print(y)"
      ],
      "execution_count": 10,
      "outputs": [
        {
          "output_type": "stream",
          "text": [
            "[76.3      76.3      75.80774  76.05387  75.80774  75.561615 77.53065\n",
            " 79.00742  78.76129  77.284515 76.54613  76.54613  76.05387  76.3\n",
            " 75.31548  76.3      76.05387  76.05387  75.561615 76.3      76.05387\n",
            " 74.33097  73.10033  74.33097  74.82323  74.33097  74.82323  72.854195\n",
            " 72.854195 73.10033  73.10033  73.59258  74.577095 75.06936  74.82323\n",
            " 74.08484  75.06936  75.80774  75.80774  76.05387  75.80774  76.05387\n",
            " 75.80774  76.05387  76.3      76.3      76.79226  75.561615 75.561615\n",
            " 75.80774  76.3      76.3      77.5      76.25     76.       75.75\n",
            " 76.75     76.25     77.25     76.5      76.25     76.75     76.25\n",
            " 78.25     77.75     79.       81.       80.5      79.       79.\n",
            " 79.75     81.75     82.       81.75     81.25     82.       81.75\n",
            " 81.75     82.75     83.       82.5      84.25     84.25     85.\n",
            " 85.5      85.       85.25     85.75     86.       86.       86.\n",
            " 86.75     86.5      85.5      86.5      86.5      86.25     87.75\n",
            " 87.5      87.25     87.5      87.25     87.25     87.75     86.75\n",
            " 87.5      87.5      87.5      86.5      87.       86.75     86.75\n",
            " 86.75     85.5      85.5      86.       87.5      87.       84.5\n",
            " 83.5      82.5      84.5      84.       84.75     86.5      85.5\n",
            " 86.75     86.25     84.75     83.25     83.75     84.       83.5\n",
            " 82.5      84.       83.75     84.5      84.25     83.       84.\n",
            " 83.       82.75     82.       82.75     82.75     81.75     81.25\n",
            " 80.75     79.75     80.       79.75     81.5      81.25     80.\n",
            " 80.5      81.5      80.75     80.75     80.25     80.25     79.75\n",
            " 81.       81.25     81.5      82.25     82.75     81.75     81.75\n",
            " 81.       78.5      79.       77.75     78.5      78.       75.75\n",
            " 78.       79.25     78.5      79.25     78.75     79.       80.\n",
            " 79.       78.75     77.75     76.5      76.75     75.5      75.5\n",
            " 75.25     76.5      76.5      76.5      75.75     76.       75.\n",
            " 75.25     75.25     75.       73.25     73.5      73.25     73.25\n",
            " 72.5      73.5      73.75     73.5      75.       74.75     75.\n",
            " 74.75     75.       74.5     ]\n"
          ],
          "name": "stdout"
        }
      ]
    },
    {
      "cell_type": "code",
      "metadata": {
        "id": "e__lsSSN3uGR",
        "colab_type": "code",
        "colab": {}
      },
      "source": [
        "\n",
        "# Split the data into 80% training and 20% testing\n",
        "x_train, x_test, y_train, y_test = train_test_split(X, y, test_size=0.1)"
      ],
      "execution_count": 0,
      "outputs": []
    },
    {
      "cell_type": "code",
      "metadata": {
        "id": "n-Zz_Fu-3yUQ",
        "colab_type": "code",
        "colab": {
          "base_uri": "https://localhost:8080/",
          "height": 50
        },
        "outputId": "8b98dd18-c353-4cc0-cf32-fe43316d292a"
      },
      "source": [
        "# Create and train the Support Vector Machine (Regressor)\n",
        "svr_rbf = SVR(kernel='rbf', C=1e3, gamma=0.1)\n",
        "svr_rbf.fit(x_train, y_train)"
      ],
      "execution_count": 12,
      "outputs": [
        {
          "output_type": "execute_result",
          "data": {
            "text/plain": [
              "SVR(C=1000.0, cache_size=200, coef0=0.0, degree=3, epsilon=0.1, gamma=0.1,\n",
              "    kernel='rbf', max_iter=-1, shrinking=True, tol=0.001, verbose=False)"
            ]
          },
          "metadata": {
            "tags": []
          },
          "execution_count": 12
        }
      ]
    },
    {
      "cell_type": "code",
      "metadata": {
        "id": "_UK9cIlQ31Z4",
        "colab_type": "code",
        "colab": {
          "base_uri": "https://localhost:8080/",
          "height": 34
        },
        "outputId": "cfcc01d0-b98d-4576-bf7b-34dccde41abf"
      },
      "source": [
        "\n",
        "# Testing Model: Score returns the coefficient of determination R^2 of the prediction. \n",
        "# The best possible score is 1.0\n",
        "svm_confidence = svr_rbf.score(x_test, y_test)\n",
        "print(\"svm confidence: \", svm_confidence)"
      ],
      "execution_count": 13,
      "outputs": [
        {
          "output_type": "stream",
          "text": [
            "svm confidence:  0.09409387936974856\n"
          ],
          "name": "stdout"
        }
      ]
    },
    {
      "cell_type": "code",
      "metadata": {
        "id": "iF2rc0XX38Oy",
        "colab_type": "code",
        "colab": {
          "base_uri": "https://localhost:8080/",
          "height": 521
        },
        "outputId": "6eb352ae-6b0e-4fca-b317-144d215ecb52"
      },
      "source": [
        "# Set x_forecast equal to the last 30 rows of the original data set from Adj. Close column\n",
        "x_forecast = np.array(df.drop(['Prediction'],1))[-forecast_out:]\n",
        "print(x_forecast)"
      ],
      "execution_count": 14,
      "outputs": [
        {
          "output_type": "stream",
          "text": [
            "[[78.75]\n",
            " [77.75]\n",
            " [76.5 ]\n",
            " [76.75]\n",
            " [75.5 ]\n",
            " [75.5 ]\n",
            " [75.25]\n",
            " [76.5 ]\n",
            " [76.5 ]\n",
            " [76.5 ]\n",
            " [75.75]\n",
            " [76.  ]\n",
            " [75.  ]\n",
            " [75.25]\n",
            " [75.25]\n",
            " [75.  ]\n",
            " [73.25]\n",
            " [73.5 ]\n",
            " [73.25]\n",
            " [73.25]\n",
            " [72.5 ]\n",
            " [73.5 ]\n",
            " [73.75]\n",
            " [73.5 ]\n",
            " [75.  ]\n",
            " [74.75]\n",
            " [75.  ]\n",
            " [74.75]\n",
            " [75.  ]\n",
            " [74.5 ]]\n"
          ],
          "name": "stdout"
        }
      ]
    },
    {
      "cell_type": "code",
      "metadata": {
        "id": "P2fqZOY74GYZ",
        "colab_type": "code",
        "colab": {
          "base_uri": "https://localhost:8080/",
          "height": 101
        },
        "outputId": "ac662df9-43c8-40c4-a40c-daf84dff0fdd"
      },
      "source": [
        "# Print support vector regressor model predictions for the next 'n' days\n",
        "svm_prediction = svr_rbf.predict(x_forecast)\n",
        "print(svm_prediction)"
      ],
      "execution_count": 15,
      "outputs": [
        {
          "output_type": "stream",
          "text": [
            "[75.09980821 75.16515596 76.34168501 76.18788065 76.25810734 76.25810734\n",
            " 76.18263593 76.34168501 76.34168501 76.34168501 76.34474249 76.40684133\n",
            " 76.15066064 76.18263593 76.18263593 76.15066064 77.16572696 77.05964733\n",
            " 77.16572696 77.16572696 76.88970482 77.05964733 76.88260807 77.05964733\n",
            " 76.15066064 76.18436064 76.15066064 76.18436064 76.15066064 76.29099443]\n"
          ],
          "name": "stdout"
        }
      ]
    }
  ]
}